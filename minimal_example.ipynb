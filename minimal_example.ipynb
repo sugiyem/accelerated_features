{
  "cells": [
    {
      "cell_type": "markdown",
      "metadata": {
        "id": "2tDj94al5GAJ"
      },
      "source": [
        "#XFeat minimal inference example"
      ]
    },
    {
      "cell_type": "markdown",
      "metadata": {
        "id": "32T-WzfU5NRH"
      },
      "source": [
        "## Test on simple input (sparse setting)"
      ]
    },
    {
      "cell_type": "code",
      "execution_count": 1,
      "metadata": {
        "colab": {
          "base_uri": "https://localhost:8080/"
        },
        "id": "o1TMnCEfNfvD",
        "outputId": "f59757f5-477a-4642-e955-7a5abefe3c21"
      },
      "outputs": [
        {
          "name": "stdout",
          "output_type": "stream",
          "text": [
            "loading weights from: /Users/farrelsalim/Documents/vebits-intern/xfeat-matching/modules/../weights/xfeat.pt\n",
            "----------------\n",
            "keypoints:  torch.Size([4096, 2])\n",
            "descriptors:  torch.Size([4096, 64])\n",
            "scores:  torch.Size([4096])\n",
            "----------------\n",
            "\n"
          ]
        }
      ],
      "source": [
        "import numpy as np\n",
        "import os\n",
        "import torch\n",
        "import tqdm\n",
        "\n",
        "from modules.xfeat import XFeat\n",
        "\n",
        "xfeat = XFeat()\n",
        "\n",
        "#Random input\n",
        "x = torch.randn(1,3,480,640)\n",
        "\n",
        "#Simple inference with batch = 1\n",
        "output = xfeat.detectAndCompute(x, top_k = 4096)[0]\n",
        "print(\"----------------\")\n",
        "print(\"keypoints: \", output['keypoints'].shape)\n",
        "print(\"descriptors: \", output['descriptors'].shape)\n",
        "print(\"scores: \", output['scores'].shape)\n",
        "print(\"----------------\\n\")"
      ]
    },
    {
      "cell_type": "code",
      "execution_count": 4,
      "metadata": {},
      "outputs": [
        {
          "name": "stdout",
          "output_type": "stream",
          "text": [
            "0.0 0.0 638.0 478.0\n",
            "torch.Size([1, 3, 480, 640])\n"
          ]
        }
      ],
      "source": [
        "xs = np.array([x for x, y in output['keypoints']])\n",
        "ys = np.array([y for x, y in output['keypoints']])\n",
        "\n",
        "print(np.min(xs), np.min(ys), np.max(xs), np.max(ys))\n",
        "print(x.shape)"
      ]
    },
    {
      "cell_type": "markdown",
      "metadata": {
        "id": "8b9C09ya5UwL"
      },
      "source": [
        "## Stress test to check FPS on VGA (sparse setting)"
      ]
    },
    {
      "cell_type": "code",
      "execution_count": 5,
      "metadata": {
        "colab": {
          "base_uri": "https://localhost:8080/"
        },
        "id": "Zsjz-QT95ZrM",
        "outputId": "2df6f545-419f-4cc3-ad8b-bf5e12741dba"
      },
      "outputs": [
        {
          "name": "stderr",
          "output_type": "stream",
          "text": [
            "Stress test on VGA resolution: 100%|██████████| 100/100 [00:13<00:00,  7.15it/s]\n"
          ]
        }
      ],
      "source": [
        "x = torch.randn(1,3,480,640)\n",
        "# Stress test\n",
        "for i in tqdm.tqdm(range(100), desc=\"Stress test on VGA resolution\"):\n",
        "\toutput = xfeat.detectAndCompute(x, top_k = 4096)\n"
      ]
    },
    {
      "cell_type": "markdown",
      "metadata": {
        "id": "1jAl-ejS5du_"
      },
      "source": [
        "## Test with batched mode (sparse)"
      ]
    },
    {
      "cell_type": "code",
      "execution_count": 6,
      "metadata": {
        "colab": {
          "base_uri": "https://localhost:8080/"
        },
        "id": "lAarS8UH5gyg",
        "outputId": "883f13f8-3fac-48f2-c0a3-656a81b57f2c"
      },
      "outputs": [
        {
          "name": "stdout",
          "output_type": "stream",
          "text": [
            "# detected features on each batch item: [4096, 4096, 4096, 4096]\n"
          ]
        }
      ],
      "source": [
        "# Batched mode\n",
        "x = torch.randn(4,3,480,640)\n",
        "outputs = xfeat.detectAndCompute(x, top_k = 4096)\n",
        "print(\"# detected features on each batch item:\", [len(o['keypoints']) for o in outputs])"
      ]
    },
    {
      "cell_type": "markdown",
      "metadata": {
        "id": "H60iMAlh5nqP"
      },
      "source": [
        "## Matches two images with built-in MNN matcher (sparse mode)"
      ]
    },
    {
      "cell_type": "code",
      "execution_count": 7,
      "metadata": {
        "id": "6N-ZqoMZ5syf"
      },
      "outputs": [],
      "source": [
        "# Match two images with sparse features\n",
        "x1 = torch.randn(1,3,480,640)\n",
        "x2 = torch.randn(1,3,480,640)\n",
        "mkpts_0, mkpts_1 = xfeat.match_xfeat(x1, x2)"
      ]
    },
    {
      "cell_type": "markdown",
      "metadata": {
        "id": "MOV4vZDp5v9_"
      },
      "source": [
        "## Matches two images with semi-dense matching, and batched mode (batch size = 4) for demonstration purpose"
      ]
    },
    {
      "cell_type": "code",
      "execution_count": 8,
      "metadata": {
        "colab": {
          "base_uri": "https://localhost:8080/"
        },
        "id": "Axe0o6U85zGV",
        "outputId": "e1257959-24fc-4194-b2f1-ee06cf450b24"
      },
      "outputs": [
        {
          "name": "stdout",
          "output_type": "stream",
          "text": [
            "number of img pairs 4\n",
            "torch.Size([160, 4])\n"
          ]
        }
      ],
      "source": [
        "# Create 4 image pairs\n",
        "x1 = torch.randn(4,3,480,640)\n",
        "x2 = torch.randn(4,3,480,640)\n",
        "\n",
        "#Obtain matches for each batch item\n",
        "matches_list = xfeat.match_xfeat_star(x1, x2, top_k = 5000)\n",
        "print('number of img pairs', len(matches_list))\n",
        "print(matches_list[0].shape) # -> output is (x1,y1,x2,y2)"
      ]
    }
  ],
  "metadata": {
    "colab": {
      "provenance": []
    },
    "kernelspec": {
      "display_name": "Python 3",
      "name": "python3"
    },
    "language_info": {
      "codemirror_mode": {
        "name": "ipython",
        "version": 3
      },
      "file_extension": ".py",
      "mimetype": "text/x-python",
      "name": "python",
      "nbconvert_exporter": "python",
      "pygments_lexer": "ipython3",
      "version": "3.9.6"
    }
  },
  "nbformat": 4,
  "nbformat_minor": 0
}
